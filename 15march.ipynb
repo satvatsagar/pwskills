{
 "cells": [
  {
   "cell_type": "code",
   "execution_count": null,
   "id": "ef8fa3f8-aaac-475a-8053-5a50340afe6b",
   "metadata": {},
   "outputs": [],
   "source": [
    "Q1- Explain the following with an example:\n",
    "a) Artificial IntKlligence\n",
    "b) Machine Learning\n",
    "c) Deep Learning"
   ]
  },
  {
   "cell_type": "code",
   "execution_count": null,
   "id": "62caed44-a367-492c-960f-9d3abdb5365e",
   "metadata": {},
   "outputs": [],
   "source": [
    "Ans:Artificial INtelligence\n",
    "Artificial intelligence refers to the development of computer system which perform tasks on their\n",
    "own without any human interception.\n",
    "example:self driving cars,chess ai,fire robots\n",
    "b)Machine learning:t is a subfield of AI that focuses on the development of algorithms that enable\n",
    "machines to learn from data and improve their performance on specific tasks over time. Machine \n",
    "learning algorithms can be classified into four main types: supervised learning, unsupervised learning,\n",
    "semi supervised and reinforcement learning.\n",
    "example:Speech and image recognition.\n",
    "c)Deep learning: It is a subfield of machine learning that involves the development of artificial neural \n",
    "networks that can learn from data in a way that is similar to how the human brain works. \n",
    "example:In the medical field, deep learning is used for tasks such as medical image analysis and diagnosis.\n",
    "For example, deep neural networks can be trained on large datasets of medical images, such as X-rays\n",
    "or MRI scans, to learn to identify patterns that are indicative of certain diseases or conditions"
   ]
  },
  {
   "cell_type": "code",
   "execution_count": null,
   "id": "c56c640a-da7c-4dd7-af48-cd6e90672b42",
   "metadata": {},
   "outputs": [],
   "source": [
    "Q2- What is supervised learning? List some examples of supervised learning.\n",
    "Ans:It is a type of machine learning where an algorithm is trained on labeled datset.\n",
    ". In supervised learning, the dataset contains input data (also called features) and output data (also called labels or target variables),\n",
    "and the goal is to learn a mapping between the inputs and outputs.During the training,the algorithm\n",
    "is shown example of input and there corresponding labels to learn and predict correct label for\n",
    "new unseen inputs.\n",
    "Example:a supervised training algorithm can be trained to predict the price of product by considering\n",
    "cost of ingredients,labour,packaging.\n",
    "predicting the amount of rainfal in certain region by historical events.\n",
    "predicting the health of person by giving his weight,height and other physical attributes"
   ]
  },
  {
   "cell_type": "code",
   "execution_count": null,
   "id": "cc52e8e9-53d1-4fc2-b0d2-ca8bb08dedab",
   "metadata": {},
   "outputs": [],
   "source": [
    "Q3:What is Unsuprvsedlearning? List some examples of supervised learning.\n",
    "ANs:Unsupervised learning is a type of machine learning where the algorithm is trained on unlabeled\n",
    "data, meaning that the data does not have any predefined labels or target variables. The goal\n",
    "of unsupervised learning is to discover patterns and relationships in the data without \n",
    "explicit guidance.Unsupervised learning can be used for tasks such as clustering, dimensionality reduction, and anomaly detection.\n",
    "Clustering involves grouping similar data points together, while dimensionality reduction involves \n",
    "reducing the number of features in a dataset while preserving the important information.\n",
    "Anomaly detection involves identifying unusual or rare data points that do not fit with the\n",
    "the data.\n",
    "example:Clustering customer data to identify different segments of customers based on their behavior and preferences.\n",
    "Reducing the number of features in a dataset of images tre computationally efficient.\n",
    "Discovering patterns in the spending habits of customers to identify potential fraudulent transactions."
   ]
  },
  {
   "cell_type": "code",
   "execution_count": null,
   "id": "fde6bb44-e7a2-4384-b3bf-f3c135209813",
   "metadata": {},
   "outputs": [],
   "source": [
    "Q4:diff bw ai,ml,dl and ds.\n",
    "Ans:Artificial Intelligence (AI) is a broad field that encompasses various subfields, including machine\n",
    "learning (ML), data science (DS), and deep learning (DL).\n",
    "Machine learning is a subset of AI that involves training algorithms to learn patterns and \n",
    "make predictions from data. It can be divided into supervised learning, unsupervised learning,\n",
    "and reinforcement learning. Supervised learning involves using labeled data to make predictions, while unsupervised learning involves finding patterns in unlabeled data. Reinforcement \n",
    "learning involves learning through trial and error based on feedback from the environment.\n",
    "Deep learning is a subfield of machine learning that involves training algorithms to\n",
    "learn hierarchical representations of data through multiple layers of artificial neural networks.\n",
    "It is particularly effective at handling complex data such as images, audio, and text, \n",
    "and is widely used in computer vision, natural language processing, and speech recognition.\n",
    "Data science involves the use of all the above three."
   ]
  },
  {
   "cell_type": "code",
   "execution_count": null,
   "id": "871f5b28-992c-48c9-b6d9-18a9a2dca519",
   "metadata": {},
   "outputs": [],
   "source": [
    "Q5:What are the main differences between supervised,unsupervised, and semi-supervised learning?\n",
    "Ans:Supervised learning involves training a model on labeled data, which means that the data is \n",
    "already classified or labeled with the correct output. The goal of supervised learning is to learn \n",
    "a mapping function that can predict the correct output for new, unseen data. Examples of supervised\n",
    "learning include image classification, text classification, and regression.\n",
    "Unsupervised learning, on the other hand, involves training a model on unlabeled data, which means\n",
    "that the data is not labeled with the correct output. The goal of unsupervised learning is\n",
    "to learn the underlying structure or patterns in the data. Examples of unsupervised learning include\n",
    "clustering, anomaly detection, and dimensionality reduction.\n",
    "Semi-supervised learning is a combination of both supervised and unsupervised learning, where a model\n",
    "is trained on both labeled and unlabeled data. The goal of semi-supervised learning is to use the unlabeled\\\n",
    "data to help improve the performance of the model on the labeled data. This is useful when labeled data\n",
    "is scarce or expensive to obtain. Examples of semi-supervised learning include image classification \n",
    "with limited labeled data and natural language processing with a small number of labeled examples."
   ]
  },
  {
   "cell_type": "code",
   "execution_count": null,
   "id": "1248217f-7a2b-43cd-af14-7d809047201b",
   "metadata": {},
   "outputs": [],
   "source": [
    "Q6- What is train, test and validation split? Explain the importance of each term.\n",
    "Ans:The training set is the part of the dataset used to train the model. It is used to optimize the\n",
    "model's parameters by minimizing the error between predicted and actual outputs. The model \n",
    "learns the underlying patterns and relationships in the data from the training set.\n",
    "The validation set is used to evaluate the performance of the model during training. It is used to\n",
    "tune the hyperparameters of the model, such as the learning rate, number of hidden layers, and \n",
    "activation functions. The validation set helps to prevent overfitting, where the model becomes too\n",
    "complex and performs well on the training data but poorly on new, unseen data.\n",
    "he test set is the final part of the dataset used to evaluate the performance of the model after it \n",
    "has been trained and tuned. It is used to assess the generalization performance of the model on new,\n",
    "unseen data. The test set is a critical component in machine learning, as it provides an unbiased \n",
    "estimate of the model's performance on new data."
   ]
  },
  {
   "cell_type": "code",
   "execution_count": 6,
   "id": "7b049976-5bdb-4804-abe9-9c530a580a74",
   "metadata": {},
   "outputs": [
    {
     "name": "stdout",
     "output_type": "stream",
     "text": [
      "Object `detection` not found.\n"
     ]
    }
   ],
   "source": [
    "Q7- How can unsupervised learning be used in anomaly detection?\n",
    "Ans:Anomalies are defined as data points that are significantly different from the majority of the data points. In unsupervised learning,\n",
    "the model is not trained on labeled data, so it does not rely on pre-defined labels to identify anomalies. Instead, the model learns \n",
    "the underlying patterns and structures in the data and can identify anomalies based on how they deviate from those patterns."
   ]
  }
 ],
 "metadata": {
  "kernelspec": {
   "display_name": "Python 3 (ipykernel)",
   "language": "python",
   "name": "python3"
  },
  "language_info": {
   "codemirror_mode": {
    "name": "ipython",
    "version": 3
   },
   "file_extension": ".py",
   "mimetype": "text/x-python",
   "name": "python",
   "nbconvert_exporter": "python",
   "pygments_lexer": "ipython3",
   "version": "3.10.8"
  }
 },
 "nbformat": 4,
 "nbformat_minor": 5
}
