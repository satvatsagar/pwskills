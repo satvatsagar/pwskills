{
 "cells": [
  {
   "cell_type": "markdown",
   "id": "f6559154-a81e-4769-806b-b644bb9ac188",
   "metadata": {},
   "source": [
    "Q1:Create a Pandas Series that contains the following data: 4, 8, 15, 16, 23, a nd 42. Then, print the series.\n"
   ]
  },
  {
   "cell_type": "code",
   "execution_count": 6,
   "id": "a68cd5ae-b743-419b-b749-ab82db9f9285",
   "metadata": {},
   "outputs": [
    {
     "name": "stdout",
     "output_type": "stream",
     "text": [
      "0     4\n",
      "1     8\n",
      "2    15\n",
      "3    16\n",
      "4    23\n",
      "5    42\n",
      "dtype: int64\n"
     ]
    }
   ],
   "source": [
    "import pandas as pd\n",
    "list=[4,8,15,16,23,42]\n",
    "ser=pd.Series(list)\n",
    "print(ser)"
   ]
  },
  {
   "cell_type": "markdown",
   "id": "2c087d66-0b85-4734-bffb-d076d8dd87cc",
   "metadata": {},
   "source": [
    "Q2:Create a variable of list type containing 10 elements in it, and apply pandas.Series function on the  variable print it. "
   ]
  },
  {
   "cell_type": "code",
   "execution_count": 8,
   "id": "5c4d1b30-6e18-4dd9-b94c-06e0dac7ad2b",
   "metadata": {},
   "outputs": [
    {
     "name": "stdout",
     "output_type": "stream",
     "text": [
      "0      4\n",
      "1      8\n",
      "2     15\n",
      "3     16\n",
      "4     23\n",
      "5     42\n",
      "6    sam\n",
      "7      p\n",
      "8      0\n",
      "9      9\n",
      "dtype: object\n"
     ]
    }
   ],
   "source": [
    "import pandas as pd\n",
    "list=[4,8,15,16,23,42,'sam','p',0,9]\n",
    "ser=pd.Series(list)\n",
    "print(ser)"
   ]
  },
  {
   "cell_type": "markdown",
   "id": "99fb703d-8791-47e7-b288-bc9c018bbaf1",
   "metadata": {},
   "source": [
    "Q3. Create a Pandas DataFrame that contains the following data: \n",
    "\n",
    "Name \n",
    "Alice \n",
    "Bob \n",
    "Claire \n",
    "Then, print the DataFrame. \n",
    "Age 25 \n",
    "30 \n",
    "27 \n",
    "Gender Female Male \n",
    "Female\n"
   ]
  },
  {
   "cell_type": "code",
   "execution_count": 13,
   "id": "fc379f0e-4c23-42a9-98b5-c71796a4fe85",
   "metadata": {},
   "outputs": [
    {
     "name": "stdout",
     "output_type": "stream",
     "text": [
      "     Name  Age  Gender\n",
      "0   Alice   25  Female\n",
      "1     Bob   30    Male\n",
      "2  Claire   27  Female\n"
     ]
    }
   ],
   "source": [
    "import pandas as pd\n",
    "data={\"Name\":[\"Alice\",\"Bob\",\"Claire\"],\"Age\":[25,30,27],\"Gender\":[\"Female\",\"Male\",\"Female\"]}\n",
    "df=pd.DataFrame(data)\n",
    "print(df)"
   ]
  },
  {
   "cell_type": "markdown",
   "id": "12f46cdb-fecb-490a-8f1b-d742dfaf80ac",
   "metadata": {},
   "source": [
    "Q4. What is ‘DataFrame’ in pandas and how is it different from pandas.series? Explain with an example. "
   ]
  },
  {
   "cell_type": "markdown",
   "id": "2c6ebb9e-05c6-4e75-840f-1e4a91b476b6",
   "metadata": {},
   "source": [
    "Ans:A Data frame is a two-dimensional data structure, i.e., data is aligned in a tabular fashion in rows and columns with labeled axes.\n",
    "Series in pandas contains a single list which can store heterogeneous type of data, because of this, series is also considered as a 1-dimensional data structure. On the other hand, DataFrame is a 2-dimensional data structure which contains multiple lists of heterogeneous type of data.Series is like\n",
    "a column a dataframe is the whole table.\n",
    "     Name  Age  Gender\n",
    "0   Alice   25  Female\n",
    "1     Bob   30    Male\n",
    "2  Claire   27  Female\n",
    "example,in the above table the whole table is considered as data frame where as its column i.e. name,\n",
    "age,gender are different series."
   ]
  },
  {
   "cell_type": "markdown",
   "id": "e9643f61-8841-43be-9d6a-5b8bb38ad160",
   "metadata": {},
   "source": [
    "Q5. Which of the following is mutable in nature Series, DataFrame, Panel? \n",
    "Ans:series and dataframe"
   ]
  },
  {
   "cell_type": "markdown",
   "id": "9452e6b4-d886-4d32-81f6-ef7734df2377",
   "metadata": {},
   "source": [
    "Q7:Create a DataFrame using multiple Series. Explain with an example. "
   ]
  },
  {
   "cell_type": "code",
   "execution_count": 21,
   "id": "26f9dc97-6efc-463c-8d57-ef22f22fa4aa",
   "metadata": {},
   "outputs": [
    {
     "data": {
      "text/html": [
       "<div>\n",
       "<style scoped>\n",
       "    .dataframe tbody tr th:only-of-type {\n",
       "        vertical-align: middle;\n",
       "    }\n",
       "\n",
       "    .dataframe tbody tr th {\n",
       "        vertical-align: top;\n",
       "    }\n",
       "\n",
       "    .dataframe thead th {\n",
       "        text-align: right;\n",
       "    }\n",
       "</style>\n",
       "<table border=\"1\" class=\"dataframe\">\n",
       "  <thead>\n",
       "    <tr style=\"text-align: right;\">\n",
       "      <th></th>\n",
       "      <th>Name</th>\n",
       "      <th>Age</th>\n",
       "      <th>SUbject</th>\n",
       "    </tr>\n",
       "  </thead>\n",
       "  <tbody>\n",
       "    <tr>\n",
       "      <th>0</th>\n",
       "      <td>shaan</td>\n",
       "      <td>23</td>\n",
       "      <td>bca</td>\n",
       "    </tr>\n",
       "    <tr>\n",
       "      <th>1</th>\n",
       "      <td>jaan</td>\n",
       "      <td>24</td>\n",
       "      <td>bcom</td>\n",
       "    </tr>\n",
       "  </tbody>\n",
       "</table>\n",
       "</div>"
      ],
      "text/plain": [
       "    Name  Age SUbject\n",
       "0  shaan   23     bca\n",
       "1   jaan   24    bcom"
      ]
     },
     "execution_count": 21,
     "metadata": {},
     "output_type": "execute_result"
    }
   ],
   "source": [
    "import pandas as pd\n",
    "name=[\"shaan\",\"jaan\"]\n",
    "age=[23,24]\n",
    "subject=[\"bca\",\"bcom\"]\n",
    "df=pd.DataFrame({\"Name\":pd.Series(name),\"Age\":pd.Series(age),\"SUbject\":pd.Series(subject)})\n",
    "df.head()"
   ]
  }
 ],
 "metadata": {
  "kernelspec": {
   "display_name": "Python 3 (ipykernel)",
   "language": "python",
   "name": "python3"
  },
  "language_info": {
   "codemirror_mode": {
    "name": "ipython",
    "version": 3
   },
   "file_extension": ".py",
   "mimetype": "text/x-python",
   "name": "python",
   "nbconvert_exporter": "python",
   "pygments_lexer": "ipython3",
   "version": "3.10.8"
  }
 },
 "nbformat": 4,
 "nbformat_minor": 5
}
